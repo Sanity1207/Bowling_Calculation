{
 "cells": [
  {
   "cell_type": "code",
   "execution_count": 1,
   "id": "f9e6b90c",
   "metadata": {},
   "outputs": [
    {
     "ename": "IndentationError",
     "evalue": "expected an indented block (<ipython-input-1-a64fdf48f13b>, line 27)",
     "output_type": "error",
     "traceback": [
      "\u001b[1;36m  File \u001b[1;32m\"<ipython-input-1-a64fdf48f13b>\"\u001b[1;36m, line \u001b[1;32m27\u001b[0m\n\u001b[1;33m    else:#스페어 처리를 성공하지 못한 경우(일반 점수 처리)\u001b[0m\n\u001b[1;37m    ^\u001b[0m\n\u001b[1;31mIndentationError\u001b[0m\u001b[1;31m:\u001b[0m expected an indented block\n"
     ]
    }
   ],
   "source": [
    "\n",
    "#변수 설정\n",
    "\n",
    "a = 10;\n",
    "left_throws = 20;\n",
    "total_score = 0;\n",
    "set_count = 1;\n",
    "\n",
    "\n",
    "\n",
    "\n",
    "\n",
    "while left_throws >0 and set_count<=12: #기회가 남았다면.\n",
    "        \n",
    "    ##하나의 턴\n",
    "        \n",
    "    \n",
    "    throw1 = throw(10)\n",
    "    \n",
    "    if(throw1 == 10): #스트라이크 인경우\n",
    "        \n",
    "        pass\n",
    "    else: #스트라이크를 못 한 경우\n",
    "        throw2 = throw(10-throw1)\n",
    "        \n",
    "        if throw1+throw2 == 10: #스페어 처리를 성공한 경우.\n",
    "            \n",
    "        else:#스페어 처리를 성공하지 못한 경우(일반 점수 처리)\n",
    "            \n",
    "            \n",
    "    #점수 계산해주고\n",
    "    \n",
    "    ##턴 끝\n",
    "    set_count+= 1\n",
    "    \n",
    "    \n",
    "    "
   ]
  },
  {
   "cell_type": "code",
   "execution_count": 6,
   "id": "37814b3d",
   "metadata": {},
   "outputs": [
    {
     "name": "stdout",
     "output_type": "stream",
     "text": [
      "숫자만 입력하세요 : 23\n",
      "True\n"
     ]
    }
   ],
   "source": [
    "a = input(\"숫자만 입력하세요 : \")\n",
    "while(type(a) != int){\n",
    "    print(\"다시 입력하세요.\")\n",
    "}\n",
    "\n"
   ]
  },
  {
   "cell_type": "code",
   "execution_count": 1,
   "id": "209a46f2",
   "metadata": {},
   "outputs": [],
   "source": [
    "#함수들 선언해주기.\n",
    "\n",
    "\n",
    "def throw(max):\n",
    "    while(True): \n",
    "        try:\n",
    "            a = int(input(\"다음 스로우에서 쓰러뜨릴 핀의 개수를 입력하세요 :  \"))\n",
    "            if(a>max):\n",
    "                print(\"남아있는 핀의 개수보다 같거나 적게 입력하세요.\")\n",
    "                continue;\n",
    "        except ValueError:\n",
    "            print(\"정수만 입력하세요.\")\n",
    "            continue;\n",
    "        break;\n",
    "    \n",
    "    return a\n"
   ]
  },
  {
   "cell_type": "code",
   "execution_count": 2,
   "id": "1f3dae8a",
   "metadata": {},
   "outputs": [],
   "source": [
    "class Turn:\n",
    "    def __init__(self,current_turn):\n",
    "        self.current_turn = current_turn\n",
    "        self.strike_count = 0;\n",
    "        self.spare_count = 0;\n",
    "        self.throw1 = 0;\n",
    "        self.throw2 =0\n",
    "        self.turn_score = 0;\n",
    "        self.final_score = 0;\n",
    "        self.calc_over = False\n",
    "        \n",
    "    def calculate(self,throw1,throw2):\n",
    "        self.throw1 = throw1\n",
    "        self.throw2 = throw2\n",
    "        ##하나의 턴\n",
    "        if self.throw1 == 10: #스트라이크\n",
    "            self.strike_count = 2\n",
    "            self.turn_score = 10\n",
    "            #print(\"턴 : {} 턴스코어:{}\".format(self.current_turn,self.turn_score))\n",
    "        elif self.throw1 + self.throw2 == 10: #스페어 처리 성공\n",
    "                self.spare_count = 1\n",
    "                self.turn_score = 10\n",
    "                \n",
    "        else: #그냥 평범한 점수 산출\n",
    "            self.turn_score = throw1 + throw2\n",
    "            self.calc_over = True\n",
    "        #파이널 스코어 : 나중에 덧셈이 가해질 스코어\n",
    "        self.final_score = self.turn_score\n",
    "        return\n",
    "    def __str__(self):\n",
    "        return \"turn = {}, throw1 = {} throw2 = {} turn_score = {}\"\n",
    "    \n",
    "    def check_over(self):\n",
    "        if self.strike_count==0 and self.spare_count == 0:\n",
    "            self.calc_over = True\n",
    "        return"
   ]
  },
  {
   "cell_type": "code",
   "execution_count": 8,
   "id": "82fd101e",
   "metadata": {},
   "outputs": [
    {
     "name": "stdout",
     "output_type": "stream",
     "text": [
      "볼링장에 오신 것을 환영합니다.\n",
      "게임을 시작합니다.\n",
      "round0 throw 1다음 스로우에서 쓰러뜨릴 핀의 개수를 입력하세요 :  10\n",
      "round1 throw 1다음 스로우에서 쓰러뜨릴 핀의 개수를 입력하세요 :  10\n",
      "round2 throw 1다음 스로우에서 쓰러뜨릴 핀의 개수를 입력하세요 :  10\n",
      "round3 throw 1다음 스로우에서 쓰러뜨릴 핀의 개수를 입력하세요 :  10\n",
      "round4 throw 1다음 스로우에서 쓰러뜨릴 핀의 개수를 입력하세요 :  10\n",
      "round5 throw 1다음 스로우에서 쓰러뜨릴 핀의 개수를 입력하세요 :  10\n",
      "round6 throw 1다음 스로우에서 쓰러뜨릴 핀의 개수를 입력하세요 :  10\n",
      "round7 throw 1다음 스로우에서 쓰러뜨릴 핀의 개수를 입력하세요 :  10\n",
      "round8 throw 1다음 스로우에서 쓰러뜨릴 핀의 개수를 입력하세요 :  10\n",
      "round9 throw 1다음 스로우에서 쓰러뜨릴 핀의 개수를 입력하세요 :  5\n",
      "round9 throw 2다음 스로우에서 쓰러뜨릴 핀의 개수를 입력하세요 :  5\n",
      "round10 throw 1다음 스로우에서 쓰러뜨릴 핀의 개수를 입력하세요 :  5\n"
     ]
    }
   ],
   "source": [
    "## 본 라운드\n",
    "\n",
    "print(\"볼링장에 오신 것을 환영합니다.\")\n",
    "print(\"게임을 시작합니다.\")\n",
    "\n",
    "current_turn = 0;\n",
    "throw1 = 0\n",
    "throw2 = 0\n",
    "turn_list = list()\n",
    "finalnum = 9\n",
    "lastFlag = False\n",
    "\n",
    "while current_turn<=finalnum:\n",
    "    print(\"round{} throw 1\".format(current_turn),end=\"\")\n",
    "    turn = Turn(current_turn) #turn 객체 생성\n",
    "    throw1 = throw(10)\n",
    "    \n",
    "    if throw1 == 10: #스트라이크\n",
    "        turn.calculate(10,0)\n",
    "        \n",
    "        \n",
    "    else: #스트라이크가 아니다.        \n",
    "        \n",
    "        if lastFlag == False:\n",
    "            print(\"round{} throw 2\".format(current_turn),end=\"\")\n",
    "            throw2 = throw(10-throw1)\n",
    "        else:\n",
    "            throw2 = 0\n",
    "        turn.calculate(throw1,throw2)\n",
    "        \n",
    "    #리스트에 넣어 주기.\n",
    "    turn_list.append(turn)    \n",
    "    \n",
    "    if current_turn == 9 : #마지막 라운드에서\n",
    "            \n",
    "        if throw1 == 10 or throw1+throw2 == 10: #스트라이크거나 스페어면 기회를 한번 더 주는데\n",
    "            finalnum += 1\n",
    "            lastFlag = True\n",
    "            \n",
    "      \n",
    "   ##던지고 리스트에 넣기는 완료. 이제 이전 점수들 산출해줄 차례\n",
    "    \n",
    "    \n",
    "    for i in range(0 if current_turn-2 <0 else current_turn-2, current_turn): #인덱스 번호로 설정해놨습니다 current_turn 을\n",
    "       \n",
    "        \n",
    "        if turn_list[i].calc_over == True : #계산이 다 끝난 셀이라면 스킵.\n",
    "            continue\n",
    "   \n",
    "        #strike count 의 경우 계산\n",
    "    \n",
    "        if(turn.throw1 == 10): #내가 지금 스트라이크를 쳤음(2번째 throw 가 없다)\n",
    "            \n",
    "            if turn_list[i].strike_count>0 : \n",
    "                turn_list[i].final_score += 10\n",
    "                turn_list[i].strike_count -= 1            \n",
    "            \n",
    "        else: #내가 스트라이크를 치지 않음 (2번째 throw 가 있다.)\n",
    "            if turn_list[i].strike_count==2 :\n",
    "                turn_list[i].final_score += (turn.throw1 + turn.throw2)\n",
    "                \n",
    "            elif turn_list[i].strike_count == 1:                \n",
    "                turn_list[i].final_score += turn.throw1\n",
    "                \n",
    "            turn_list[i].strike_count = 0\n",
    "        \n",
    "        #spare count 의 경우 계산\n",
    "        if turn_list[i].spare_count>0:\n",
    "            turn_list[i].final_score += turn.throw1\n",
    "            turn_list[i].spare_count =0\n",
    "        \n",
    "        \n",
    "        \n",
    "        turn_list[i].check_over() #계산이 끝난 아이들의 calc_over 값을 수정해준다.\n",
    "        \n",
    "    #이제 다 끝났으니 변수들을 초기화하고 더해주면 된다.\n",
    "    \n",
    "    throw1 = throw2 = 0\n",
    "    current_turn += 1\n",
    "    \n",
    "    \n",
    "    "
   ]
  },
  {
   "cell_type": "code",
   "execution_count": null,
   "id": "3a591a9b",
   "metadata": {},
   "outputs": [],
   "source": [
    "# print(turn_list[0].turn_score)"
   ]
  },
  {
   "cell_type": "code",
   "execution_count": 9,
   "id": "583e731f",
   "metadata": {},
   "outputs": [
    {
     "name": "stdout",
     "output_type": "stream",
     "text": [
      "0 파이널 스코어 : 30\n",
      "1 파이널 스코어 : 30\n",
      "2 파이널 스코어 : 30\n",
      "3 파이널 스코어 : 30\n",
      "4 파이널 스코어 : 30\n",
      "5 파이널 스코어 : 30\n",
      "6 파이널 스코어 : 30\n",
      "7 파이널 스코어 : 25\n",
      "8 파이널 스코어 : 20\n",
      "9 파이널 스코어 : 15\n",
      "10 파이널 스코어 : 5\n",
      "0 단순점수 : 10\n",
      "1 단순점수 : 10\n",
      "2 단순점수 : 10\n",
      "3 단순점수 : 10\n",
      "4 단순점수 : 10\n",
      "5 단순점수 : 10\n",
      "6 단순점수 : 10\n",
      "7 단순점수 : 10\n",
      "8 단순점수 : 10\n",
      "9 단순점수 : 10\n",
      "10 단순점수 : 5\n"
     ]
    }
   ],
   "source": [
    "for i in range(len(turn_list)):\n",
    "    print(\"{} 파이널 스코어 : {}\".format(i,turn_list[i].final_score))\n",
    "\n",
    "for i in range(len(turn_list)):\n",
    "    print(\"{} 단순점수 : {}\".format(i,turn_list[i].turn_score))"
   ]
  },
  {
   "cell_type": "code",
   "execution_count": 13,
   "id": "91cdde52",
   "metadata": {},
   "outputs": [],
   "source": [
    "for i in range(0,-1) :\n",
    "    print(\"hi\")"
   ]
  },
  {
   "cell_type": "code",
   "execution_count": null,
   "id": "9dde9662",
   "metadata": {},
   "outputs": [],
   "source": [
    "#what the fuck is going on?"
   ]
  }
 ],
 "metadata": {
  "kernelspec": {
   "display_name": "Python 3",
   "language": "python",
   "name": "python3"
  },
  "language_info": {
   "codemirror_mode": {
    "name": "ipython",
    "version": 3
   },
   "file_extension": ".py",
   "mimetype": "text/x-python",
   "name": "python",
   "nbconvert_exporter": "python",
   "pygments_lexer": "ipython3",
   "version": "3.8.8"
  }
 },
 "nbformat": 4,
 "nbformat_minor": 5
}
